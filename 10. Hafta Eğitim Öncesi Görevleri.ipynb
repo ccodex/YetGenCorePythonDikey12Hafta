{
 "cells": [
  {
   "attachments": {},
   "cell_type": "markdown",
   "metadata": {},
   "source": [
    "# Problem 1"
   ]
  },
  {
   "cell_type": "code",
   "execution_count": 15,
   "metadata": {},
   "outputs": [
    {
     "name": "stdout",
     "output_type": "stream",
     "text": [
      "[[ 1  2  3  4  5]\n",
      " [ 6  7  8  9 10]]\n",
      "(2, 5)\n",
      "[[ 1  2]\n",
      " [ 3  4]\n",
      " [ 5  6]\n",
      " [ 7  8]\n",
      " [ 9 10]]\n",
      "2\n"
     ]
    }
   ],
   "source": [
    "# 1 - numpy kütüphanesini import edin\n",
    "import numpy as np\n",
    "\n",
    "# 2 - 0 ile 10 arasında 5 sayıdan oluşan matris üretin\n",
    "a = np.array([1,2,3,4,5,6,7,8,9,10])\n",
    "multi = a.reshape(2,5)\n",
    "print(multi)\n",
    "\n",
    "# 3 - matris'in boyutunu öğrenin\n",
    "print(multi.shape)\n",
    "\n",
    "# 4 - matris'i yeniden boyutlandırın\n",
    "newMatrix = multi.reshape(5,2)\n",
    "print(newMatrix)\n",
    "# 5 - matris'in boyut sayısını öğrenin\n",
    "print(multi.ndim)\n"
   ]
  },
  {
   "attachments": {},
   "cell_type": "markdown",
   "metadata": {},
   "source": [
    "# Problem 2"
   ]
  },
  {
   "cell_type": "code",
   "execution_count": 38,
   "metadata": {},
   "outputs": [
    {
     "name": "stdout",
     "output_type": "stream",
     "text": [
      "[1 3 5 7 9]\n"
     ]
    },
    {
     "ename": "TypeError",
     "evalue": "Cannot interpret '1' as a data type",
     "output_type": "error",
     "traceback": [
      "\u001b[1;31m---------------------------------------------------------------------------\u001b[0m",
      "\u001b[1;31mTypeError\u001b[0m                                 Traceback (most recent call last)",
      "Cell \u001b[1;32mIn[38], line 11\u001b[0m\n\u001b[0;32m      8\u001b[0m \u001b[39mprint\u001b[39m(array)\n\u001b[0;32m     10\u001b[0m \u001b[39m# 2 - Oluşturduğunuz matrisi parçalayın\u001b[39;00m\n\u001b[1;32m---> 11\u001b[0m secondMatrix \u001b[39m=\u001b[39m np\u001b[39m.\u001b[39;49marray(\u001b[39m5\u001b[39;49m,\u001b[39m1\u001b[39;49m)\n\u001b[0;32m     12\u001b[0m \u001b[39mprint\u001b[39m(secondMatrix)\n\u001b[0;32m     14\u001b[0m \u001b[39m# 3 - Parçalanmış matrisleri birleştirin\u001b[39;00m\n",
      "\u001b[1;31mTypeError\u001b[0m: Cannot interpret '1' as a data type"
     ]
    }
   ],
   "source": [
    "# 1 - 0 ile 10 arasında bulunan tek sayılardan oluşan matris üretin\n",
    "birdenOna = [0,1,2,3,4,5,6,7,8,9,10]\n",
    "liste = []\n",
    "for i in range(0,10):\n",
    "    if i%2 == 1:\n",
    "        liste.append(i)\n",
    "array = np.array(liste)\n",
    "print(array)\n",
    "\n",
    "# 2 - Oluşturduğunuz matrisi parçalayın\n",
    "secondMatrix = np.array(5,1)\n",
    "print(secondMatrix)\n",
    "\n",
    "# 3 - Parçalanmış matrisleri birleştirin\n",
    "artıkMatrix = birdenOna - secondMatrix\n",
    "print(artıkMatrix)\n"
   ]
  },
  {
   "attachments": {},
   "cell_type": "markdown",
   "metadata": {},
   "source": [
    "# Problem 3"
   ]
  },
  {
   "cell_type": "code",
   "execution_count": 41,
   "metadata": {},
   "outputs": [
    {
     "name": "stdout",
     "output_type": "stream",
     "text": [
      "[ 5  7  9 11 13 15 17 19 21 23 25 27 29 31 33 35 37 39 41 43 45 47 49 51\n",
      " 53 55 57 59 61 63 65 67 69 71 73 75 77 79 81 83 85 87 89 91 93 95 97 99]\n"
     ]
    }
   ],
   "source": [
    "# 1 - 5 ile 100 arasında ikişer ikişer atlayarak rastgele 10 sayıdan oluşan matris üretin\n",
    "a = np.arange(5, 100, 2)\n",
    "print(a)\n",
    "# 2 - matris'in özelliklerini inceleyin\n"
   ]
  }
 ],
 "metadata": {
  "kernelspec": {
   "display_name": "Python 3",
   "language": "python",
   "name": "python3"
  },
  "language_info": {
   "codemirror_mode": {
    "name": "ipython",
    "version": 3
   },
   "file_extension": ".py",
   "mimetype": "text/x-python",
   "name": "python",
   "nbconvert_exporter": "python",
   "pygments_lexer": "ipython3",
   "version": "3.11.1"
  },
  "orig_nbformat": 4,
  "vscode": {
   "interpreter": {
    "hash": "5026d2d6e7aaaaba093def813beadff083d8733e4a511af01735cbabd156995d"
   }
  }
 },
 "nbformat": 4,
 "nbformat_minor": 2
}
