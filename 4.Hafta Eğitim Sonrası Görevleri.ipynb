{
 "cells": [
  {
   "cell_type": "markdown",
   "metadata": {},
   "source": [
    "# Problem 1\n",
    "`ogrenciler` adında bir sözlük oluşturunuz. Kullanıcıdan döngü yardımıyla 3 öğrenci için veri girmesini isteyerek öğrencilerin sırasıyla okul numarası, isim, soy isim, telefon numarası ve doğum tarihi bilgilerini alınız. Aldığınız öğrenci bilgilerini yine aynı döngü yardımıyla `ogrenciler` adındaki sözlükte saklayınız. Daha sonra öğrenci bilgilerinin bulunduğu sözlük yapısını ekrana bastırınız.\n",
    "\n"
   ]
  },
  {
   "cell_type": "code",
   "execution_count": 12,
   "metadata": {},
   "outputs": [
    {
     "name": "stdout",
     "output_type": "stream",
     "text": [
      "{'11': 'as sa 545'}\n",
      "{'11': 'as sa 545', '22': 'ayşe fatsa 515'}\n",
      "{'11': 'as sa 545', '22': 'ayşe fatsa 515', '33': 'ali ak 573'}\n"
     ]
    }
   ],
   "source": [
    "# 1.Problemin Çözümünü Buraya Yazınız\n",
    "ogrenciler = dict()\n",
    "i=0\n",
    "while(i!=3):\n",
    "    numara=input(f\"{i+1} Numaranızı giriniz:\")\n",
    "    isim=input(f\"{i+1} Adınızı giriniz:\")\n",
    "    soyisim=input(f\"{i+1} Soyadınızı giriniz:\")\n",
    "    telefon=input(f\"{i+1} Telefon Numaranızı giriniz:\")\n",
    "    telefonNumarası=input(f\"{i+1} Telefon Numarasını giriniz:\")\n",
    "    dogumTarihi=input(f\"{i+1} Doğum tarihini giriniz:\")\n",
    "    i+=1\n",
    "    ogrencibilgileri=ad+\" \"+soyad+\" \"+telefon\" \"+telefonNumarası\" \"+dogumTarihi\n",
    "    ogrenciler[numara]=ogrencibilgileri\n",
    "    print(ogrenciler)\n",
    "\n"
   ]
  },
  {
   "cell_type": "markdown",
   "metadata": {},
   "source": [
    "# Problem 2\n",
    "\n",
    "### a - Biraz ısınarak başlayalım!\n",
    "\n",
    "```\n",
    "numbers = [5,10,10,15,15,15,20,20,20,20]\n",
    "```\n",
    "\n",
    "Yukarıda `numbers` adında 10 elemanlı bir liste verilmiştir. Bu listenin her elemanını kontrol eden ve tekrar eden elemanları bir kez olacak şekilde başka bir listeye kopyalayan bir program yazınız. Son olarak oluşturduğunuz listeyi ekrana bastırınız.\n",
    "\n",
    "\n",
    "\n",
    "\n",
    "```\n",
    ">Output\n",
    "[5, 10, 15, 20]\n",
    "```\n"
   ]
  },
  {
   "cell_type": "code",
   "execution_count": 2,
   "metadata": {},
   "outputs": [
    {
     "name": "stdout",
     "output_type": "stream",
     "text": [
      "{10, 20, 5, 15}\n"
     ]
    }
   ],
   "source": [
    "# 2.Problemin a Şıkkının Çözümünü Buraya Yazınız\n",
    "numbers = [5,10,10,15,15,15,20,20,20,20]\n",
    "for numbersYeni in numbers:\n",
    "    numbersYeni = set(numbers)\n",
    "print(numbersYeni)"
   ]
  },
  {
   "cell_type": "markdown",
   "metadata": {},
   "source": [
    "### 🌶️ b) Hadi işi biraz daha zorlaştıralım! \n",
    "\n",
    "\n",
    "Şimdiyse senden `numbers` isimli listedeki tekrar eden elemanları `repeatNumbers` adındaki listeye; tekrar etmeyen elemanları `uniqueNumbers`adındaki listeye kopyalayan yazmanı ve listeleri ekrana bastırmanı bekliyoruz\n",
    "\n",
    "```\n",
    ">Output\n",
    "Tekrar Eden Elemanlar: [10, 10, 15, 15, 15, 20, 20, 20, 20]\n",
    "Tekrar Etmeyen Elemanlar: [5]\n",
    "```"
   ]
  },
  {
   "cell_type": "code",
   "execution_count": 1,
   "metadata": {},
   "outputs": [
    {
     "name": "stdout",
     "output_type": "stream",
     "text": [
      "[5] Tekrar etmeyen sayı \n",
      "[10, 10, 15, 15, 15, 20, 20, 20, 20] Tekrar eden sayılar \n"
     ]
    }
   ],
   "source": [
    "# 2.Problemin b Şıkkının Çözümünü Buraya Yazınız\n",
    "numbers = [5,10,10,15,15,15,20,20,20,20]\n",
    "uniqe = []\n",
    "repeat = []\n",
    "for number in numbers:\n",
    "    if numbers.count(number) == 1 :\n",
    "        uniqe.append(number)\n",
    "    else:\n",
    "        repeat.append(number)     \n",
    "\n",
    "print(f\"{uniqe} Tekrar etmeyen sayı \")\n",
    "print(f\"{repeat} Tekrar eden sayılar \")"
   ]
  },
  {
   "cell_type": "markdown",
   "metadata": {},
   "source": [
    "# Problem 3\n",
    "sn1 = {1,2,3,4,5}\n",
    "\n",
    "sn2 = {4,5,6,7,8}\n",
    "\n",
    " Verilen 2 adet küme için kesişimlerini, farklarını ve birleşimlerini bulunuz. "
   ]
  },
  {
   "cell_type": "code",
   "execution_count": 20,
   "metadata": {},
   "outputs": [
    {
     "name": "stdout",
     "output_type": "stream",
     "text": [
      "{1, 2, 3}\n",
      "{8, 6, 7}\n"
     ]
    }
   ],
   "source": [
    "# 3.Problemin Çözümünü Buraya Yazınız\n",
    "sn1={1,2,3,4,5}\n",
    "sn2={4,5,6,7,8}\n",
    "\n",
    "#<\"Kesişim\">\n",
    "kesisim1 = sn1.intersection(sn2)\n",
    "kesisim2 = sn2.intersection(sn1)\n",
    "\n",
    "#<\"Fark\">\n",
    "fark1 = sn1-sn2 \n",
    "#Alternatif çözüm\n",
    "alternatifFark1 = sn1.difference(sn2)\n",
    "\n",
    "fark2 = sn2-sn1\n",
    "#Alternatif çözüm\n",
    "alternatifFark2 = sn2.difference(sn1)\n",
    "\n",
    "#<\"Birleşim\">\n",
    "birlesim1 = sn1.union(sn2)\n",
    "birlesim2 = sn2.union(sn1)\n",
    "\n",
    "print(kesisim1)\n",
    "print(kesisim2)\n",
    "\n",
    "print(alternatifFark1)\n",
    "\n",
    "print(alternatifFark2)\n",
    "\n",
    "print(birlesim1)\n",
    "print(birlesim2)"
   ]
  },
  {
   "cell_type": "markdown",
   "metadata": {},
   "source": [
    "# Problem 4\n",
    "\n",
    "Buradaki işlemlerimizin tamamı stringler içindir. Aşağıda verilecek olan metodlar için kendinizin örnek yaratması gerekmektedir. \n",
    "\n",
    "Örneğin `upper` için `string` değişkeni oluştururken` k = \"BAC\"` şeklinde oluşturmayınız. Bunun yerine k değişkenini `k = \"bac`\" şeklinde oluşturmanız `upper` metodundaki değişimi görebilmeniz için daha iyi olacaktır.\n",
    "\n",
    "Bütün metodlardaki değişimin gözle görülür şekilde değişimi beklenmektedir.\n",
    "\n",
    "\n",
    "1- capitalize(), lower(), upper(), swapcase(), title(), replace()\n",
    "\n",
    "2- endswith(), startswith(), find(), index(), count()\n",
    "\n",
    "3- split(), strip(), join(), islower(), isalpha(), isdigit()\n",
    "\n",
    "\n",
    "Yukarıdaki `string` metodlarındaki değişimleri görebildiğimiz bir program yazınız.\n"
   ]
  },
  {
   "cell_type": "code",
   "execution_count": 17,
   "metadata": {},
   "outputs": [
    {
     "data": {
      "text/plain": [
       "'ASDADKLMKDF'"
      ]
     },
     "execution_count": 17,
     "metadata": {},
     "output_type": "execute_result"
    }
   ],
   "source": [
    "# 4.Problemin Çözümünü Buraya Yazınız\n",
    "k = input(\"Bir cümle giriniz\")\n",
    "\n",
    "k.capitalize()\n",
    "k.lower()\n",
    "k.upper()\n",
    "k.swapcase()\n",
    "k.title()\n",
    "k.replace()\n",
    "\n",
    "k.endswith()\n",
    "k.startswith()\n",
    "k.find()\n",
    "k.index()\n",
    "k.count()\n",
    "\n",
    "k.split()\n",
    "k.strip()\n",
    "k.join()\n",
    "k.islower()\n",
    "k.isalpha()\n",
    "k.isdigit()"
   ]
  }
 ],
 "metadata": {
  "kernelspec": {
   "display_name": "Python 3.10.5 64-bit",
   "language": "python",
   "name": "python3"
  },
  "language_info": {
   "codemirror_mode": {
    "name": "ipython",
    "version": 3
   },
   "file_extension": ".py",
   "mimetype": "text/x-python",
   "name": "python",
   "nbconvert_exporter": "python",
   "pygments_lexer": "ipython3",
   "version": "3.11.1"
  },
  "orig_nbformat": 4,
  "vscode": {
   "interpreter": {
    "hash": "5026d2d6e7aaaaba093def813beadff083d8733e4a511af01735cbabd156995d"
   }
  }
 },
 "nbformat": 4,
 "nbformat_minor": 2
}
