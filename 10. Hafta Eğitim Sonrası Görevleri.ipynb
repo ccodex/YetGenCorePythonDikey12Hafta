{
 "cells": [
  {
   "attachments": {},
   "cell_type": "markdown",
   "metadata": {},
   "source": [
    "# Problem 1 "
   ]
  },
  {
   "cell_type": "code",
   "execution_count": 2,
   "metadata": {},
   "outputs": [
    {
     "name": "stdout",
     "output_type": "stream",
     "text": [
      "[ 11  23  45  86 101]\n"
     ]
    }
   ],
   "source": [
    "# 1 - numpy kütüphanesini import edin\n",
    "import numpy as np\n",
    "\n",
    "# 2 - 5 elemanlı bir numpy array oluşturun\n",
    "array = np.array([23,101,45,86,11])\n",
    "\n",
    "# 3 - Oluşturduğunuz arrayi küçükten büyüğe sıralayın.\n",
    "array.sort()\n",
    "print(array)"
   ]
  },
  {
   "attachments": {},
   "cell_type": "markdown",
   "metadata": {},
   "source": [
    "# Problem 2"
   ]
  },
  {
   "cell_type": "code",
   "execution_count": 23,
   "metadata": {},
   "outputs": [
    {
     "name": "stdout",
     "output_type": "stream",
     "text": [
      "[10 15 30 45 60]\n",
      "[ 5  6  7  8  9 10 11 12 13 14]\n",
      "[50 55 60 65 70 75 80 85 90 95]\n",
      "[0. 0. 0. 0. 0. 0. 0. 0. 0. 0.]\n",
      "[1. 1. 1. 1. 1. 1. 1. 1. 1. 1.]\n",
      "[  0.  25.  50.  75. 100.]\n",
      "[18 11 10 22 16]\n",
      "[ 0.18801007  0.81582162  0.41275809 -0.86689653 -0.26108561 -0.02648033\n",
      " -0.11184041 -0.84070613 -0.62776238 -0.34621575]\n",
      "Satır Toplamı:  [130 152 177]\n",
      "Sütun Toplamı:  [ 59 118  86  90 106]\n",
      "En büyük değer:  49\n",
      "En küçük değer:  11\n",
      "12\n",
      "[10 11 19]\n",
      "[17 13 17 13 19 11 10]\n",
      "[11 45 21 29 24]\n",
      "16\n",
      "[11 12 36]\n",
      "[[ 121 2025  441  841  576]\n",
      " [ 144 1089  256 1849 2304]\n",
      " [1296 1600 2401  324 1156]]\n",
      "[[False False  True  True  True]\n",
      " [ True False False False False]\n",
      " [ True False False False False]]\n"
     ]
    }
   ],
   "source": [
    "import numpy as np\n",
    "# 1- (10,15,30,45,60) değerlerine sahip numpy dizisi oluşturunuz.\n",
    "Series = np.array([10,15,30,45,60])\n",
    "print(Series)\n",
    "\n",
    "# 2- (5-15) arasındaki sayılarla numpy dizisi oluşturunuz.\n",
    "Series1 = np.arange(5,15)\n",
    "print(Series1)\n",
    "# 3- (50-100) arasında 5'er 5'er artarak numpy dizisi oluşturunuz.\n",
    "Series2 = np.arange(50,100,5)\n",
    "print(Series2)\n",
    "\n",
    "# 4- 10 elemanlı sıfırlardan oluşan bir dizi oluşturunuz.\n",
    "Series3 = np.zeros(10)\n",
    "print(Series3)\n",
    "\n",
    "# 5- 10 elemanlı birlerden oluşan bir dizi oluşturunuz.\n",
    "Series5 = np.ones(10)\n",
    "print(Series5)\n",
    "\n",
    "# 6- (0-100) arasında eşit aralıklı 5 sayı üretin.\n",
    "Series6 = np.linspace(0,100,5)\n",
    "print(Series6)\n",
    "\n",
    "# 7- (10-30) arasında rastgele 5 tane tamsayı üretin.\n",
    "Series7 = np.random.randint(10,30,5)\n",
    "print(Series7)\n",
    "\n",
    "# 8- [-1 ile 1] arasında 10 adet sayı üretin.\n",
    "Series8 = np.random.uniform(-1,1,10)\n",
    "print(Series8)\n",
    "\n",
    "# 9- (3x5) boyutlarında (10-50) arasında rastgele bir matris oluşturunuz.\n",
    "Matris = np.random.randint(10,50, size=(3,5))\n",
    "\n",
    "# 10- Üretilen matrisin satır ve sütun sayıları toplamlarını hesaplayınız ?\n",
    "satirToplam = np.sum(Matris, axis=1)\n",
    "sutunToplam = np.sum(Matris, axis=0) \n",
    "print(\"Satır Toplamı: \", satirToplam)  \n",
    "print(\"Sütun Toplamı: \", sutunToplam )\n",
    "\n",
    "# 11- Üretilen matrisin en büyük, en küçük ve ortalaması nedir ?\n",
    "matrisMax = np.max(Matris) \n",
    "matrisMin = np.min(Matris)\n",
    "print(\"En büyük değer: \", matrisMax)  \n",
    "print(\"En küçük değer: \", matrisMin )\n",
    "\n",
    "# 12- Üretilen matrisin en büyük değerinin indeksi kaçtır ?\n",
    "print(np.argmax(Matris))\n",
    "\n",
    "# 13- (10-20) arasındaki sayıları içeren dizinin ilk 3 elemanını seçiniz.\n",
    "Series9 = np.random.randint(10,20, size=7)\n",
    "print(Series9[:3])\n",
    "\n",
    "# 14- Üretilen dizinin elemanlarını tersten yazdırın.\n",
    "print(Series9[::-1]) \n",
    "\n",
    "# 15- Üretilen matrisin ilk satırını seçiniz.\n",
    "print(Matris[0])\n",
    "\n",
    "# 16- Üretilen matrisin 2.satır 3.sütundaki elemanı hangisidir ?\n",
    "print(Matris[1,2])\n",
    "\n",
    "# 17- Üretilen matrisin tüm satırlardaki ilk elemanı seçiniz.\n",
    "print(Matris[:,0])\n",
    "\n",
    "# 18- Üretilen matrisin her bir elemanının karesini alınız.\n",
    "print(Matris**2)\n",
    "\n",
    "# 19- Üretilen matris elemanlarının hangisi pozitif çift sayıdır ? Aralığı (-50,+50) arasında yapınız.\n",
    "Matris = np.random.randint(-50, 50, size=(3,5))\n",
    "print((Matris > 0) & (Matris % 2 == 0))"
   ]
  }
 ],
 "metadata": {
  "kernelspec": {
   "display_name": "Python 3",
   "language": "python",
   "name": "python3"
  },
  "language_info": {
   "codemirror_mode": {
    "name": "ipython",
    "version": 3
   },
   "file_extension": ".py",
   "mimetype": "text/x-python",
   "name": "python",
   "nbconvert_exporter": "python",
   "pygments_lexer": "ipython3",
   "version": "3.11.1"
  },
  "orig_nbformat": 4,
  "vscode": {
   "interpreter": {
    "hash": "5026d2d6e7aaaaba093def813beadff083d8733e4a511af01735cbabd156995d"
   }
  }
 },
 "nbformat": 4,
 "nbformat_minor": 2
}
